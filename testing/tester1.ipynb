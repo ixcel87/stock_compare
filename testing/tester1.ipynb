{
 "cells": [
  {
   "cell_type": "code",
   "execution_count": 1,
   "id": "1ec2271d-6f8e-438e-adfa-cea065d9faa1",
   "metadata": {
    "tags": []
   },
   "outputs": [
    {
     "name": "stderr",
     "output_type": "stream",
     "text": [
      "2024-08-25 15:32:47.432577: I external/local_tsl/tsl/cuda/cudart_stub.cc:32] Could not find cuda drivers on your machine, GPU will not be used.\n",
      "2024-08-25 15:32:47.436122: I external/local_tsl/tsl/cuda/cudart_stub.cc:32] Could not find cuda drivers on your machine, GPU will not be used.\n",
      "2024-08-25 15:32:47.480578: I tensorflow/core/platform/cpu_feature_guard.cc:210] This TensorFlow binary is optimized to use available CPU instructions in performance-critical operations.\n",
      "To enable the following instructions: AVX2 FMA, in other operations, rebuild TensorFlow with the appropriate compiler flags.\n",
      "2024-08-25 15:32:48.142481: W tensorflow/compiler/tf2tensorrt/utils/py_utils.cc:38] TF-TRT Warning: Could not find TensorRT\n"
     ]
    }
   ],
   "source": [
    "import streamlit as st\n",
    "import numpy as np\n",
    "import pandas as pd\n",
    "import yfinance as yf\n",
    "from datetime import datetime, timedelta\n",
    "from sklearn.preprocessing import MinMaxScaler\n",
    "from tensorflow.keras.models import load_model\n",
    "import plotly.graph_objs as go\n",
    "import requests"
   ]
  },
  {
   "cell_type": "code",
   "execution_count": 2,
   "id": "f67f15d6-0e92-4da8-ae69-5e825eaa7bf6",
   "metadata": {
    "tags": []
   },
   "outputs": [],
   "source": [
    "# Function to calculate moving averages\n",
    "def calculate_moving_average(data, window_size):\n",
    "    return data.rolling(window=window_size).mean()\n",
    "\n",
    "# Function to create dataset for prediction\n",
    "def create_dataset(data, look_back=100):\n",
    "    X = []\n",
    "    for i in range(len(data) - look_back):\n",
    "        X.append(data[i:(i + look_back)])\n",
    "    return np.array(X)"
   ]
  },
  {
   "cell_type": "code",
   "execution_count": 3,
   "id": "ea43901d-14c7-4da6-86c5-36b4456558b9",
   "metadata": {
    "tags": []
   },
   "outputs": [],
   "source": [
    "datetime_format = \"%Y-%m-%d\""
   ]
  },
  {
   "cell_type": "code",
   "execution_count": 4,
   "id": "d97ced74-2a63-48e2-98f1-8e3b95a8c581",
   "metadata": {
    "tags": []
   },
   "outputs": [],
   "source": [
    "# i.e. 2023-08-26\n",
    "# start_date = input(f\"Enter a date and time (format: {datetime_format}): \")\n",
    "start_date = \"2023-08-26\""
   ]
  },
  {
   "cell_type": "code",
   "execution_count": 5,
   "id": "b00e579e-6fb5-4e74-854a-89761ef02441",
   "metadata": {
    "tags": []
   },
   "outputs": [],
   "source": [
    "# i.e. 2024-08-20\n",
    "# end_date = input(f\"Enter a date and time (format: {datetime_format}): \")\n",
    "end_date = \"2024-08-20\""
   ]
  },
  {
   "cell_type": "code",
   "execution_count": 6,
   "id": "40973bcc-5df1-4fe8-9b1e-905847ce303f",
   "metadata": {
    "tags": []
   },
   "outputs": [],
   "source": [
    "stock_symbol = \"MKTX\""
   ]
  },
  {
   "cell_type": "code",
   "execution_count": 7,
   "id": "3664f0a1-820d-4b7c-9d09-47b97247aec1",
   "metadata": {
    "tags": []
   },
   "outputs": [
    {
     "name": "stderr",
     "output_type": "stream",
     "text": [
      "[*********************100%%**********************]  1 of 1 completed\n"
     ]
    },
    {
     "data": {
      "text/html": [
       "<div>\n",
       "<style scoped>\n",
       "    .dataframe tbody tr th:only-of-type {\n",
       "        vertical-align: middle;\n",
       "    }\n",
       "\n",
       "    .dataframe tbody tr th {\n",
       "        vertical-align: top;\n",
       "    }\n",
       "\n",
       "    .dataframe thead th {\n",
       "        text-align: right;\n",
       "    }\n",
       "</style>\n",
       "<table border=\"1\" class=\"dataframe\">\n",
       "  <thead>\n",
       "    <tr style=\"text-align: right;\">\n",
       "      <th></th>\n",
       "      <th>Open</th>\n",
       "      <th>High</th>\n",
       "      <th>Low</th>\n",
       "      <th>Close</th>\n",
       "      <th>Adj Close</th>\n",
       "      <th>Volume</th>\n",
       "    </tr>\n",
       "    <tr>\n",
       "      <th>Date</th>\n",
       "      <th></th>\n",
       "      <th></th>\n",
       "      <th></th>\n",
       "      <th></th>\n",
       "      <th></th>\n",
       "      <th></th>\n",
       "    </tr>\n",
       "  </thead>\n",
       "  <tbody>\n",
       "    <tr>\n",
       "      <th>2023-08-28</th>\n",
       "      <td>245.240005</td>\n",
       "      <td>246.589996</td>\n",
       "      <td>242.800003</td>\n",
       "      <td>245.880005</td>\n",
       "      <td>242.658463</td>\n",
       "      <td>259700</td>\n",
       "    </tr>\n",
       "    <tr>\n",
       "      <th>2023-08-29</th>\n",
       "      <td>246.009995</td>\n",
       "      <td>246.440002</td>\n",
       "      <td>243.199997</td>\n",
       "      <td>246.350006</td>\n",
       "      <td>243.122299</td>\n",
       "      <td>251800</td>\n",
       "    </tr>\n",
       "    <tr>\n",
       "      <th>2023-08-30</th>\n",
       "      <td>246.009995</td>\n",
       "      <td>246.740005</td>\n",
       "      <td>242.600006</td>\n",
       "      <td>243.270004</td>\n",
       "      <td>240.082642</td>\n",
       "      <td>205100</td>\n",
       "    </tr>\n",
       "    <tr>\n",
       "      <th>2023-08-31</th>\n",
       "      <td>243.669998</td>\n",
       "      <td>244.059998</td>\n",
       "      <td>240.289993</td>\n",
       "      <td>240.929993</td>\n",
       "      <td>237.773300</td>\n",
       "      <td>482100</td>\n",
       "    </tr>\n",
       "    <tr>\n",
       "      <th>2023-09-01</th>\n",
       "      <td>243.309998</td>\n",
       "      <td>243.309998</td>\n",
       "      <td>237.020004</td>\n",
       "      <td>238.839996</td>\n",
       "      <td>235.710678</td>\n",
       "      <td>237100</td>\n",
       "    </tr>\n",
       "  </tbody>\n",
       "</table>\n",
       "</div>"
      ],
      "text/plain": [
       "                  Open        High         Low       Close   Adj Close  Volume\n",
       "Date                                                                          \n",
       "2023-08-28  245.240005  246.589996  242.800003  245.880005  242.658463  259700\n",
       "2023-08-29  246.009995  246.440002  243.199997  246.350006  243.122299  251800\n",
       "2023-08-30  246.009995  246.740005  242.600006  243.270004  240.082642  205100\n",
       "2023-08-31  243.669998  244.059998  240.289993  240.929993  237.773300  482100\n",
       "2023-09-01  243.309998  243.309998  237.020004  238.839996  235.710678  237100"
      ]
     },
     "execution_count": 7,
     "metadata": {},
     "output_type": "execute_result"
    }
   ],
   "source": [
    "stock_data = yf.download(stock_symbol, start=start_date, end=end_date)\n",
    "stock_data.head(5)"
   ]
  },
  {
   "cell_type": "code",
   "execution_count": 8,
   "id": "784898fa-b49a-4143-9af4-95ceaab22584",
   "metadata": {
    "tags": []
   },
   "outputs": [
    {
     "name": "stderr",
     "output_type": "stream",
     "text": [
      "WARNING:absl:Compiled the loaded model, but the compiled metrics have yet to be built. `model.compile_metrics` will be empty until you train or evaluate the model.\n"
     ]
    }
   ],
   "source": [
    "# Load model\n",
    "model = load_model(\"../KNN_model.h5\")"
   ]
  },
  {
   "cell_type": "code",
   "execution_count": 9,
   "id": "170c2112-70ea-46d0-b43b-1b15789018cb",
   "metadata": {
    "tags": []
   },
   "outputs": [
    {
     "data": {
      "text/plain": [
       "(None, 100)"
      ]
     },
     "execution_count": 9,
     "metadata": {},
     "output_type": "execute_result"
    }
   ],
   "source": [
    "model.input_shape"
   ]
  },
  {
   "cell_type": "code",
   "execution_count": 10,
   "id": "e91b581d-8594-431f-9891-793d2fb0348b",
   "metadata": {
    "tags": []
   },
   "outputs": [],
   "source": [
    "# Compile the model with appropriate optimizer and loss function\n",
    "model.compile(optimizer='adam', loss='mean_squared_error', metrics=['mae'])"
   ]
  },
  {
   "cell_type": "code",
   "execution_count": 11,
   "id": "71bb1431-67eb-4c89-be9e-a18473e96bd7",
   "metadata": {
    "tags": []
   },
   "outputs": [
    {
     "data": {
      "text/plain": [
       "pandas.core.series.Series"
      ]
     },
     "execution_count": 11,
     "metadata": {},
     "output_type": "execute_result"
    }
   ],
   "source": [
    "type(stock_data['Close'])"
   ]
  },
  {
   "cell_type": "code",
   "execution_count": 12,
   "id": "03526f6a-e6c2-4b63-a44f-6cceaad27482",
   "metadata": {
    "tags": []
   },
   "outputs": [
    {
     "data": {
      "text/plain": [
       "Date\n",
       "2023-08-28    245.880005\n",
       "2023-08-29    246.350006\n",
       "2023-08-30    243.270004\n",
       "Name: Close, dtype: float64"
      ]
     },
     "execution_count": 12,
     "metadata": {},
     "output_type": "execute_result"
    }
   ],
   "source": [
    "stock_data['Close'].head(3)"
   ]
  },
  {
   "cell_type": "code",
   "execution_count": 13,
   "id": "bd600fb6-6a24-4ef2-a1ab-bfd3c6521730",
   "metadata": {
    "tags": []
   },
   "outputs": [
    {
     "data": {
      "text/plain": [
       "246"
      ]
     },
     "execution_count": 13,
     "metadata": {},
     "output_type": "execute_result"
    }
   ],
   "source": [
    "stock_data['Close'].count()"
   ]
  },
  {
   "cell_type": "code",
   "execution_count": 14,
   "id": "e9fd14e9-9ebf-4b12-895b-bf097a408930",
   "metadata": {
    "tags": []
   },
   "outputs": [],
   "source": [
    "# Scale data\n",
    "scaler = MinMaxScaler(feature_range=(0, 1))\n",
    "scaled_data = scaler.fit_transform(np.array(stock_data['Close']).reshape(-1, 1))"
   ]
  },
  {
   "cell_type": "code",
   "execution_count": 15,
   "id": "4892aa6c-be66-44cb-96cf-c44c15341ed2",
   "metadata": {
    "tags": []
   },
   "outputs": [
    {
     "data": {
      "text/plain": [
       "(246, 1)"
      ]
     },
     "execution_count": 15,
     "metadata": {},
     "output_type": "execute_result"
    }
   ],
   "source": [
    "scaled_data.shape"
   ]
  },
  {
   "cell_type": "code",
   "execution_count": 16,
   "id": "a927271a-33ba-4a74-94c7-e45422558448",
   "metadata": {
    "tags": []
   },
   "outputs": [
    {
     "data": {
      "text/plain": [
       "array([[0.50946325],\n",
       "       [0.51402504],\n",
       "       [0.48413082],\n",
       "       [0.46141888],\n",
       "       [0.44113356],\n",
       "       [0.47199843],\n",
       "       [0.34426862],\n",
       "       [0.32903028],\n",
       "       [0.32262449],\n",
       "       [0.30457149],\n",
       "       [0.27826841],\n",
       "       [0.26273904],\n",
       "       [0.34601562],\n",
       "       [0.30321267],\n",
       "       [0.32738029],\n",
       "       [0.29855373],\n",
       "       [0.29001263],\n",
       "       [0.20993887],\n",
       "       [0.21915946],\n",
       "       [0.17373572],\n",
       "       [0.11947972],\n",
       "       [0.08143258],\n",
       "       [0.15568272],\n",
       "       [0.19654467],\n",
       "       [0.16072984],\n",
       "       [0.11035614],\n",
       "       [0.19305054],\n",
       "       [0.31272442],\n",
       "       [0.4400659 ],\n",
       "       [0.42531303],\n",
       "       [0.39095403],\n",
       "       [0.41929526],\n",
       "       [0.45676008],\n",
       "       [0.44055123],\n",
       "       [0.47219244],\n",
       "       [0.45918656],\n",
       "       [0.41783944],\n",
       "       [0.40221292],\n",
       "       [0.4075512 ],\n",
       "       [0.40667755],\n",
       "       [0.41279232],\n",
       "       [0.20081529],\n",
       "       [0.18645059],\n",
       "       [0.12248853],\n",
       "       [0.20149463],\n",
       "       [0.19761232],\n",
       "       [0.231486  ],\n",
       "       [0.27186247],\n",
       "       [0.25895374],\n",
       "       [0.25924491],\n",
       "       [0.22459474],\n",
       "       [0.28748899],\n",
       "       [0.32485681],\n",
       "       [0.28680966],\n",
       "       [0.27283312],\n",
       "       [0.33757152],\n",
       "       [0.33155391],\n",
       "       [0.32330382],\n",
       "       [0.33766853],\n",
       "       [0.34125982],\n",
       "       [0.39163351],\n",
       "       [0.39629231],\n",
       "       [0.36892157],\n",
       "       [0.358051  ],\n",
       "       [0.36494226],\n",
       "       [0.42414822],\n",
       "       [0.45355711],\n",
       "       [0.45404244],\n",
       "       [0.43841592],\n",
       "       [0.56177809],\n",
       "       [0.66640764],\n",
       "       [0.65505189],\n",
       "       [0.6628165 ],\n",
       "       [0.67824886],\n",
       "       [0.68310182],\n",
       "       [0.75453746],\n",
       "       [0.88100545],\n",
       "       [0.83286423],\n",
       "       [0.85955548],\n",
       "       [0.85907   ],\n",
       "       [0.82548764],\n",
       "       [0.89575833],\n",
       "       [0.92012026],\n",
       "       [0.95321744],\n",
       "       [0.99427325],\n",
       "       [1.        ],\n",
       "       [0.96534983],\n",
       "       [0.90323207],\n",
       "       [0.83063176],\n",
       "       [0.79588473],\n",
       "       [0.80345533],\n",
       "       [0.81617005],\n",
       "       [0.76666985],\n",
       "       [0.76298156],\n",
       "       [0.74570505],\n",
       "       [0.73366982],\n",
       "       [0.73386383],\n",
       "       [0.69115789],\n",
       "       [0.69232255],\n",
       "       [0.70406662],\n",
       "       [0.70833724],\n",
       "       [0.76705817],\n",
       "       [0.79103178],\n",
       "       [0.77627861],\n",
       "       [0.80665815],\n",
       "       [0.824711  ],\n",
       "       [0.7855962 ],\n",
       "       [0.31175377],\n",
       "       [0.24818018],\n",
       "       [0.30398916],\n",
       "       [0.27079482],\n",
       "       [0.27050365],\n",
       "       [0.32048918],\n",
       "       [0.29894204],\n",
       "       [0.29049795],\n",
       "       [0.32320682],\n",
       "       [0.25196548],\n",
       "       [0.22148893],\n",
       "       [0.26312721],\n",
       "       [0.24895652],\n",
       "       [0.19984464],\n",
       "       [0.20974471],\n",
       "       [0.19567117],\n",
       "       [0.20896822],\n",
       "       [0.19926231],\n",
       "       [0.19974764],\n",
       "       [0.18635343],\n",
       "       [0.19431235],\n",
       "       [0.24022126],\n",
       "       [0.20751239],\n",
       "       [0.17373572],\n",
       "       [0.13957103],\n",
       "       [0.15228574],\n",
       "       [0.21090937],\n",
       "       [0.28913898],\n",
       "       [0.28428603],\n",
       "       [0.30622148],\n",
       "       [0.22556539],\n",
       "       [0.24323007],\n",
       "       [0.25313014],\n",
       "       [0.24390956],\n",
       "       [0.22634188],\n",
       "       [0.29525375],\n",
       "       [0.27477428],\n",
       "       [0.25458597],\n",
       "       [0.20508592],\n",
       "       [0.23643596],\n",
       "       [0.25099483],\n",
       "       [0.22488591],\n",
       "       [0.20353294],\n",
       "       [0.20916238],\n",
       "       [0.3047655 ],\n",
       "       [0.31058911],\n",
       "       [0.30020386],\n",
       "       [0.32136267],\n",
       "       [0.27953023],\n",
       "       [0.23672713],\n",
       "       [0.19033289],\n",
       "       [0.11210329],\n",
       "       [0.09104148],\n",
       "       [0.0828884 ],\n",
       "       [0.09472962],\n",
       "       [0.10307671],\n",
       "       [0.10715318],\n",
       "       [0.1104533 ],\n",
       "       [0.10511502],\n",
       "       [0.07949142],\n",
       "       [0.08152958],\n",
       "       [0.10395036],\n",
       "       [0.06502956],\n",
       "       [0.124721  ],\n",
       "       [0.15267392],\n",
       "       [0.10123271],\n",
       "       [0.12045037],\n",
       "       [0.07279432],\n",
       "       [0.08560619],\n",
       "       [0.11093862],\n",
       "       [0.12345918],\n",
       "       [0.12171204],\n",
       "       [0.10705617],\n",
       "       [0.22828303],\n",
       "       [0.22527423],\n",
       "       [0.20693006],\n",
       "       [0.21663597],\n",
       "       [0.23459182],\n",
       "       [0.25254781],\n",
       "       [0.20479475],\n",
       "       [0.22808888],\n",
       "       [0.12578865],\n",
       "       [0.06813553],\n",
       "       [0.04163829],\n",
       "       [0.05377067],\n",
       "       [0.05445016],\n",
       "       [0.05930311],\n",
       "       [0.02940889],\n",
       "       [0.12210036],\n",
       "       [0.05212069],\n",
       "       [0.03581483],\n",
       "       [0.02028532],\n",
       "       [0.07492963],\n",
       "       [0.05745897],\n",
       "       [0.06629138],\n",
       "       [0.05794429],\n",
       "       [0.02154713],\n",
       "       [0.05532365],\n",
       "       [0.00990007],\n",
       "       [0.02814708],\n",
       "       [0.00640594],\n",
       "       [0.02630308],\n",
       "       [0.06105011],\n",
       "       [0.06930019],\n",
       "       [0.        ],\n",
       "       [0.00397946],\n",
       "       [0.07395898],\n",
       "       [0.10928849],\n",
       "       [0.10686201],\n",
       "       [0.10686201],\n",
       "       [0.1315151 ],\n",
       "       [0.19935932],\n",
       "       [0.18887707],\n",
       "       [0.25478013],\n",
       "       [0.27419195],\n",
       "       [0.30301851],\n",
       "       [0.27079482],\n",
       "       [0.25012133],\n",
       "       [0.28331552],\n",
       "       [0.27040665],\n",
       "       [0.23925061],\n",
       "       [0.26662135],\n",
       "       [0.31291858],\n",
       "       [0.28962431],\n",
       "       [0.29729206],\n",
       "       [0.29253611],\n",
       "       [0.27011548],\n",
       "       [0.40027176],\n",
       "       [0.28642134],\n",
       "       [0.39978644],\n",
       "       [0.34883041],\n",
       "       [0.37367752],\n",
       "       [0.41415114],\n",
       "       [0.40337758],\n",
       "       [0.46248653],\n",
       "       [0.46161304],\n",
       "       [0.39318634],\n",
       "       [0.39415699],\n",
       "       [0.40580406]])"
      ]
     },
     "execution_count": 16,
     "metadata": {},
     "output_type": "execute_result"
    }
   ],
   "source": [
    "scaled_data"
   ]
  },
  {
   "cell_type": "code",
   "execution_count": 17,
   "id": "76b16ac3-c52d-4fb6-a154-e52cf2a99985",
   "metadata": {
    "tags": []
   },
   "outputs": [],
   "source": [
    "# Prepare data for prediction\n",
    "x_pred = create_dataset(scaled_data)"
   ]
  },
  {
   "cell_type": "code",
   "execution_count": 18,
   "id": "19a04837-36d0-4abf-acbf-617286b23ddb",
   "metadata": {
    "tags": []
   },
   "outputs": [
    {
     "data": {
      "text/plain": [
       "(146, 100, 1)"
      ]
     },
     "execution_count": 18,
     "metadata": {},
     "output_type": "execute_result"
    }
   ],
   "source": [
    "x_pred.shape"
   ]
  },
  {
   "cell_type": "code",
   "execution_count": 19,
   "id": "47864a2d-b38c-42d2-930e-35b831e34fdd",
   "metadata": {
    "tags": []
   },
   "outputs": [
    {
     "data": {
      "text/plain": [
       "array([[[0.50946325],\n",
       "        [0.51402504],\n",
       "        [0.48413082],\n",
       "        ...,\n",
       "        [0.69115789],\n",
       "        [0.69232255],\n",
       "        [0.70406662]],\n",
       "\n",
       "       [[0.51402504],\n",
       "        [0.48413082],\n",
       "        [0.46141888],\n",
       "        ...,\n",
       "        [0.69232255],\n",
       "        [0.70406662],\n",
       "        [0.70833724]],\n",
       "\n",
       "       [[0.48413082],\n",
       "        [0.46141888],\n",
       "        [0.44113356],\n",
       "        ...,\n",
       "        [0.70406662],\n",
       "        [0.70833724],\n",
       "        [0.76705817]],\n",
       "\n",
       "       ...,\n",
       "\n",
       "       [[0.27477428],\n",
       "        [0.25458597],\n",
       "        [0.20508592],\n",
       "        ...,\n",
       "        [0.40337758],\n",
       "        [0.46248653],\n",
       "        [0.46161304]],\n",
       "\n",
       "       [[0.25458597],\n",
       "        [0.20508592],\n",
       "        [0.23643596],\n",
       "        ...,\n",
       "        [0.46248653],\n",
       "        [0.46161304],\n",
       "        [0.39318634]],\n",
       "\n",
       "       [[0.20508592],\n",
       "        [0.23643596],\n",
       "        [0.25099483],\n",
       "        ...,\n",
       "        [0.46161304],\n",
       "        [0.39318634],\n",
       "        [0.39415699]]])"
      ]
     },
     "execution_count": 19,
     "metadata": {},
     "output_type": "execute_result"
    }
   ],
   "source": [
    "x_pred"
   ]
  },
  {
   "cell_type": "code",
   "execution_count": 20,
   "id": "79d70a91-36ea-4e74-ac6e-e563d4e608e4",
   "metadata": {
    "tags": []
   },
   "outputs": [
    {
     "name": "stdout",
     "output_type": "stream",
     "text": [
      "\u001b[1m5/5\u001b[0m \u001b[32m━━━━━━━━━━━━━━━━━━━━\u001b[0m\u001b[37m\u001b[0m \u001b[1m0s\u001b[0m 4ms/step \n"
     ]
    }
   ],
   "source": [
    "# Predict stock prices\n",
    "y_pred = model.predict(x_pred)\n",
    "y_pred = scaler.inverse_transform(y_pred)"
   ]
  },
  {
   "cell_type": "code",
   "execution_count": 21,
   "id": "6f24b757-d799-49a4-8f11-efdadb9173a1",
   "metadata": {
    "tags": []
   },
   "outputs": [
    {
     "data": {
      "text/plain": [
       "array([[267.33826],\n",
       "       [267.89865],\n",
       "       [262.8604 ],\n",
       "       [266.5111 ],\n",
       "       [264.11612],\n",
       "       [266.748  ],\n",
       "       [273.07767],\n",
       "       [276.76376],\n",
       "       [263.26678],\n",
       "       [260.99808],\n",
       "       [263.66953],\n",
       "       [253.78069],\n",
       "       [255.15547],\n",
       "       [252.69208],\n",
       "       [256.1461 ],\n",
       "       [247.9268 ],\n",
       "       [241.91257],\n",
       "       [226.35268],\n",
       "       [220.4514 ],\n",
       "       [224.74184],\n",
       "       [209.08067],\n",
       "       [207.20047],\n",
       "       [221.17873],\n",
       "       [220.73679],\n",
       "       [214.34486],\n",
       "       [224.46043],\n",
       "       [222.52205],\n",
       "       [217.0572 ],\n",
       "       [218.42804],\n",
       "       [214.36708],\n",
       "       [218.90204],\n",
       "       [222.25859],\n",
       "       [222.10469],\n",
       "       [224.67754],\n",
       "       [232.6349 ],\n",
       "       [225.75288],\n",
       "       [219.95879],\n",
       "       [216.54565],\n",
       "       [218.45508],\n",
       "       [216.9941 ],\n",
       "       [217.0514 ],\n",
       "       [213.3382 ],\n",
       "       [220.91711],\n",
       "       [221.73547],\n",
       "       [224.75519],\n",
       "       [230.79456],\n",
       "       [231.40286],\n",
       "       [235.65408],\n",
       "       [236.39508],\n",
       "       [229.10814],\n",
       "       [219.1517 ],\n",
       "       [220.58844],\n",
       "       [219.45691],\n",
       "       [214.46497],\n",
       "       [214.21548],\n",
       "       [227.08675],\n",
       "       [221.90872],\n",
       "       [224.01244],\n",
       "       [225.92606],\n",
       "       [218.74858],\n",
       "       [223.22299],\n",
       "       [226.20253],\n",
       "       [218.4178 ],\n",
       "       [219.69376],\n",
       "       [226.98999],\n",
       "       [231.79054],\n",
       "       [231.44745],\n",
       "       [228.46902],\n",
       "       [220.15382],\n",
       "       [211.78893],\n",
       "       [216.9064 ],\n",
       "       [217.24974],\n",
       "       [215.94183],\n",
       "       [221.19139],\n",
       "       [219.03784],\n",
       "       [217.63881],\n",
       "       [218.5749 ],\n",
       "       [213.7075 ],\n",
       "       [213.73297],\n",
       "       [211.5726 ],\n",
       "       [214.90309],\n",
       "       [226.38434],\n",
       "       [229.0513 ],\n",
       "       [231.73091],\n",
       "       [235.3802 ],\n",
       "       [239.48637],\n",
       "       [229.7485 ],\n",
       "       [222.55138],\n",
       "       [224.15399],\n",
       "       [217.44456],\n",
       "       [211.47832],\n",
       "       [212.3925 ],\n",
       "       [203.76093],\n",
       "       [207.91228],\n",
       "       [207.99615],\n",
       "       [209.08281],\n",
       "       [211.49358],\n",
       "       [217.17116],\n",
       "       [210.86008],\n",
       "       [199.80339],\n",
       "       [208.63817],\n",
       "       [208.09833],\n",
       "       [198.61336],\n",
       "       [204.10217],\n",
       "       [204.37248],\n",
       "       [202.71542],\n",
       "       [210.90106],\n",
       "       [197.12837],\n",
       "       [196.0772 ],\n",
       "       [198.00136],\n",
       "       [196.97762],\n",
       "       [198.1252 ],\n",
       "       [202.63597],\n",
       "       [204.43094],\n",
       "       [206.0282 ],\n",
       "       [205.99393],\n",
       "       [205.81319],\n",
       "       [207.88461],\n",
       "       [204.29034],\n",
       "       [205.37572],\n",
       "       [202.30898],\n",
       "       [203.59087],\n",
       "       [207.09804],\n",
       "       [216.1812 ],\n",
       "       [216.83543],\n",
       "       [216.97388],\n",
       "       [222.4498 ],\n",
       "       [221.33662],\n",
       "       [221.80783],\n",
       "       [223.76445],\n",
       "       [227.10782],\n",
       "       [225.44472],\n",
       "       [224.00862],\n",
       "       [225.5825 ],\n",
       "       [228.69435],\n",
       "       [225.7806 ],\n",
       "       [224.75383],\n",
       "       [222.53531],\n",
       "       [230.04868],\n",
       "       [225.6656 ],\n",
       "       [223.62923],\n",
       "       [225.80038],\n",
       "       [236.48892],\n",
       "       [232.23984],\n",
       "       [229.6812 ],\n",
       "       [232.89381]], dtype=float32)"
      ]
     },
     "execution_count": 21,
     "metadata": {},
     "output_type": "execute_result"
    }
   ],
   "source": [
    "y_pred"
   ]
  },
  {
   "cell_type": "code",
   "execution_count": 22,
   "id": "db6717d4-68b3-44ca-99aa-3be993d34ba8",
   "metadata": {
    "tags": []
   },
   "outputs": [
    {
     "data": {
      "text/html": [
       "<div>\n",
       "<style scoped>\n",
       "    .dataframe tbody tr th:only-of-type {\n",
       "        vertical-align: middle;\n",
       "    }\n",
       "\n",
       "    .dataframe tbody tr th {\n",
       "        vertical-align: top;\n",
       "    }\n",
       "\n",
       "    .dataframe thead th {\n",
       "        text-align: right;\n",
       "    }\n",
       "</style>\n",
       "<table border=\"1\" class=\"dataframe\">\n",
       "  <thead>\n",
       "    <tr style=\"text-align: right;\">\n",
       "      <th></th>\n",
       "      <th>Forecast</th>\n",
       "    </tr>\n",
       "  </thead>\n",
       "  <tbody>\n",
       "    <tr>\n",
       "      <th>2024-08-20</th>\n",
       "      <td>NaN</td>\n",
       "    </tr>\n",
       "    <tr>\n",
       "      <th>2024-08-21</th>\n",
       "      <td>NaN</td>\n",
       "    </tr>\n",
       "    <tr>\n",
       "      <th>2024-08-22</th>\n",
       "      <td>NaN</td>\n",
       "    </tr>\n",
       "    <tr>\n",
       "      <th>2024-08-23</th>\n",
       "      <td>NaN</td>\n",
       "    </tr>\n",
       "    <tr>\n",
       "      <th>2024-08-24</th>\n",
       "      <td>NaN</td>\n",
       "    </tr>\n",
       "    <tr>\n",
       "      <th>2024-08-25</th>\n",
       "      <td>NaN</td>\n",
       "    </tr>\n",
       "    <tr>\n",
       "      <th>2024-08-26</th>\n",
       "      <td>NaN</td>\n",
       "    </tr>\n",
       "    <tr>\n",
       "      <th>2024-08-27</th>\n",
       "      <td>NaN</td>\n",
       "    </tr>\n",
       "    <tr>\n",
       "      <th>2024-08-28</th>\n",
       "      <td>NaN</td>\n",
       "    </tr>\n",
       "    <tr>\n",
       "      <th>2024-08-29</th>\n",
       "      <td>NaN</td>\n",
       "    </tr>\n",
       "    <tr>\n",
       "      <th>2024-08-30</th>\n",
       "      <td>NaN</td>\n",
       "    </tr>\n",
       "    <tr>\n",
       "      <th>2024-08-31</th>\n",
       "      <td>NaN</td>\n",
       "    </tr>\n",
       "    <tr>\n",
       "      <th>2024-09-01</th>\n",
       "      <td>NaN</td>\n",
       "    </tr>\n",
       "    <tr>\n",
       "      <th>2024-09-02</th>\n",
       "      <td>NaN</td>\n",
       "    </tr>\n",
       "    <tr>\n",
       "      <th>2024-09-03</th>\n",
       "      <td>NaN</td>\n",
       "    </tr>\n",
       "    <tr>\n",
       "      <th>2024-09-04</th>\n",
       "      <td>NaN</td>\n",
       "    </tr>\n",
       "    <tr>\n",
       "      <th>2024-09-05</th>\n",
       "      <td>NaN</td>\n",
       "    </tr>\n",
       "    <tr>\n",
       "      <th>2024-09-06</th>\n",
       "      <td>NaN</td>\n",
       "    </tr>\n",
       "    <tr>\n",
       "      <th>2024-09-07</th>\n",
       "      <td>NaN</td>\n",
       "    </tr>\n",
       "    <tr>\n",
       "      <th>2024-09-08</th>\n",
       "      <td>NaN</td>\n",
       "    </tr>\n",
       "    <tr>\n",
       "      <th>2024-09-09</th>\n",
       "      <td>NaN</td>\n",
       "    </tr>\n",
       "    <tr>\n",
       "      <th>2024-09-10</th>\n",
       "      <td>NaN</td>\n",
       "    </tr>\n",
       "    <tr>\n",
       "      <th>2024-09-11</th>\n",
       "      <td>NaN</td>\n",
       "    </tr>\n",
       "    <tr>\n",
       "      <th>2024-09-12</th>\n",
       "      <td>NaN</td>\n",
       "    </tr>\n",
       "    <tr>\n",
       "      <th>2024-09-13</th>\n",
       "      <td>NaN</td>\n",
       "    </tr>\n",
       "    <tr>\n",
       "      <th>2024-09-14</th>\n",
       "      <td>NaN</td>\n",
       "    </tr>\n",
       "    <tr>\n",
       "      <th>2024-09-15</th>\n",
       "      <td>NaN</td>\n",
       "    </tr>\n",
       "    <tr>\n",
       "      <th>2024-09-16</th>\n",
       "      <td>NaN</td>\n",
       "    </tr>\n",
       "    <tr>\n",
       "      <th>2024-09-17</th>\n",
       "      <td>NaN</td>\n",
       "    </tr>\n",
       "    <tr>\n",
       "      <th>2024-09-18</th>\n",
       "      <td>NaN</td>\n",
       "    </tr>\n",
       "  </tbody>\n",
       "</table>\n",
       "</div>"
      ],
      "text/plain": [
       "           Forecast\n",
       "2024-08-20      NaN\n",
       "2024-08-21      NaN\n",
       "2024-08-22      NaN\n",
       "2024-08-23      NaN\n",
       "2024-08-24      NaN\n",
       "2024-08-25      NaN\n",
       "2024-08-26      NaN\n",
       "2024-08-27      NaN\n",
       "2024-08-28      NaN\n",
       "2024-08-29      NaN\n",
       "2024-08-30      NaN\n",
       "2024-08-31      NaN\n",
       "2024-09-01      NaN\n",
       "2024-09-02      NaN\n",
       "2024-09-03      NaN\n",
       "2024-09-04      NaN\n",
       "2024-09-05      NaN\n",
       "2024-09-06      NaN\n",
       "2024-09-07      NaN\n",
       "2024-09-08      NaN\n",
       "2024-09-09      NaN\n",
       "2024-09-10      NaN\n",
       "2024-09-11      NaN\n",
       "2024-09-12      NaN\n",
       "2024-09-13      NaN\n",
       "2024-09-14      NaN\n",
       "2024-09-15      NaN\n",
       "2024-09-16      NaN\n",
       "2024-09-17      NaN\n",
       "2024-09-18      NaN"
      ]
     },
     "execution_count": 22,
     "metadata": {},
     "output_type": "execute_result"
    }
   ],
   "source": [
    "# Forecasting\n",
    "forecast_dates = [stock_data.index[-1] + timedelta(days=i) for i in range(1, 31)]\n",
    "forecast = pd.DataFrame(index=forecast_dates, columns=['Forecast'])\n",
    "forecast"
   ]
  },
  {
   "cell_type": "code",
   "execution_count": 23,
   "id": "b8dc82ee-e998-47ba-8a11-b297ac23f33e",
   "metadata": {
    "tags": []
   },
   "outputs": [],
   "source": [
    "# Use the last 100 days of data for forecasting\n",
    "last_100_days = stock_data['Close'].tail(100)\n",
    "# print(f\"(before transform) last_100_days={last_100_days.shape}\\n\")\n",
    "\n",
    "last_100_days_scaled = scaler.transform(np.array(last_100_days).reshape(-1, 1))\n",
    "# print(f\"last_100_days_scaled={last_100_days_scaled.shape}\\n\")"
   ]
  },
  {
   "cell_type": "code",
   "execution_count": 24,
   "id": "0b7aad7b-1823-46b2-b462-0d9d0be48a31",
   "metadata": {
    "tags": []
   },
   "outputs": [
    {
     "data": {
      "text/plain": [
       "array([[0.23643596],\n",
       "       [0.25099483],\n",
       "       [0.22488591],\n",
       "       [0.20353294],\n",
       "       [0.20916238],\n",
       "       [0.3047655 ],\n",
       "       [0.31058911],\n",
       "       [0.30020386],\n",
       "       [0.32136267],\n",
       "       [0.27953023],\n",
       "       [0.23672713],\n",
       "       [0.19033289],\n",
       "       [0.11210329],\n",
       "       [0.09104148],\n",
       "       [0.0828884 ],\n",
       "       [0.09472962],\n",
       "       [0.10307671],\n",
       "       [0.10715318],\n",
       "       [0.1104533 ],\n",
       "       [0.10511502],\n",
       "       [0.07949142],\n",
       "       [0.08152958],\n",
       "       [0.10395036],\n",
       "       [0.06502956],\n",
       "       [0.124721  ],\n",
       "       [0.15267392],\n",
       "       [0.10123271],\n",
       "       [0.12045037],\n",
       "       [0.07279432],\n",
       "       [0.08560619],\n",
       "       [0.11093862],\n",
       "       [0.12345918],\n",
       "       [0.12171204],\n",
       "       [0.10705617],\n",
       "       [0.22828303],\n",
       "       [0.22527423],\n",
       "       [0.20693006],\n",
       "       [0.21663597],\n",
       "       [0.23459182],\n",
       "       [0.25254781],\n",
       "       [0.20479475],\n",
       "       [0.22808888],\n",
       "       [0.12578865],\n",
       "       [0.06813553],\n",
       "       [0.04163829],\n",
       "       [0.05377067],\n",
       "       [0.05445016],\n",
       "       [0.05930311],\n",
       "       [0.02940889],\n",
       "       [0.12210036],\n",
       "       [0.05212069],\n",
       "       [0.03581483],\n",
       "       [0.02028532],\n",
       "       [0.07492963],\n",
       "       [0.05745897],\n",
       "       [0.06629138],\n",
       "       [0.05794429],\n",
       "       [0.02154713],\n",
       "       [0.05532365],\n",
       "       [0.00990007],\n",
       "       [0.02814708],\n",
       "       [0.00640594],\n",
       "       [0.02630308],\n",
       "       [0.06105011],\n",
       "       [0.06930019],\n",
       "       [0.        ],\n",
       "       [0.00397946],\n",
       "       [0.07395898],\n",
       "       [0.10928849],\n",
       "       [0.10686201],\n",
       "       [0.10686201],\n",
       "       [0.1315151 ],\n",
       "       [0.19935932],\n",
       "       [0.18887707],\n",
       "       [0.25478013],\n",
       "       [0.27419195],\n",
       "       [0.30301851],\n",
       "       [0.27079482],\n",
       "       [0.25012133],\n",
       "       [0.28331552],\n",
       "       [0.27040665],\n",
       "       [0.23925061],\n",
       "       [0.26662135],\n",
       "       [0.31291858],\n",
       "       [0.28962431],\n",
       "       [0.29729206],\n",
       "       [0.29253611],\n",
       "       [0.27011548],\n",
       "       [0.40027176],\n",
       "       [0.28642134],\n",
       "       [0.39978644],\n",
       "       [0.34883041],\n",
       "       [0.37367752],\n",
       "       [0.41415114],\n",
       "       [0.40337758],\n",
       "       [0.46248653],\n",
       "       [0.46161304],\n",
       "       [0.39318634],\n",
       "       [0.39415699],\n",
       "       [0.40580406]])"
      ]
     },
     "execution_count": 24,
     "metadata": {},
     "output_type": "execute_result"
    }
   ],
   "source": [
    "last_100_days_scaled"
   ]
  },
  {
   "cell_type": "code",
   "execution_count": 54,
   "id": "3ff1ba31-e66f-4592-b434-711a55b35626",
   "metadata": {
    "tags": []
   },
   "outputs": [
    {
     "data": {
      "text/plain": [
       "(100, 1)"
      ]
     },
     "execution_count": 54,
     "metadata": {},
     "output_type": "execute_result"
    }
   ],
   "source": [
    "last_100_days_scaled.shape"
   ]
  },
  {
   "cell_type": "code",
   "execution_count": 59,
   "id": "af4c3f03-82ed-491d-a3e1-804b08bd40f4",
   "metadata": {
    "tags": []
   },
   "outputs": [],
   "source": [
    "x_forecast = last_100_days_scaled[-100:].reshape(1, -1, 1)"
   ]
  },
  {
   "cell_type": "code",
   "execution_count": 60,
   "id": "45361012-3b49-4a6d-be4b-85cf9abcbc6e",
   "metadata": {
    "tags": []
   },
   "outputs": [
    {
     "name": "stdout",
     "output_type": "stream",
     "text": [
      "\u001b[1m1/1\u001b[0m \u001b[32m━━━━━━━━━━━━━━━━━━━━\u001b[0m\u001b[37m\u001b[0m \u001b[1m0s\u001b[0m 11ms/step\n"
     ]
    }
   ],
   "source": [
    "y_forecast = model.predict(x_forecast)"
   ]
  },
  {
   "cell_type": "code",
   "execution_count": 56,
   "id": "4a667b90-14e0-4607-82fa-f6433017ae5a",
   "metadata": {
    "tags": []
   },
   "outputs": [
    {
     "data": {
      "text/plain": [
       "array([[0.23643596, 0.25099483, 0.22488591, 0.20353294, 0.20916238,\n",
       "        0.3047655 , 0.31058911, 0.30020386, 0.32136267, 0.27953023,\n",
       "        0.23672713, 0.19033289, 0.11210329, 0.09104148, 0.0828884 ,\n",
       "        0.09472962, 0.10307671, 0.10715318, 0.1104533 , 0.10511502,\n",
       "        0.07949142, 0.08152958, 0.10395036, 0.06502956, 0.124721  ,\n",
       "        0.15267392, 0.10123271, 0.12045037, 0.07279432, 0.08560619,\n",
       "        0.11093862, 0.12345918, 0.12171204, 0.10705617, 0.22828303,\n",
       "        0.22527423, 0.20693006, 0.21663597, 0.23459182, 0.25254781,\n",
       "        0.20479475, 0.22808888, 0.12578865, 0.06813553, 0.04163829,\n",
       "        0.05377067, 0.05445016, 0.05930311, 0.02940889, 0.12210036,\n",
       "        0.05212069, 0.03581483, 0.02028532, 0.07492963, 0.05745897,\n",
       "        0.06629138, 0.05794429, 0.02154713, 0.05532365, 0.00990007,\n",
       "        0.02814708, 0.00640594, 0.02630308, 0.06105011, 0.06930019,\n",
       "        0.        , 0.00397946, 0.07395898, 0.10928849, 0.10686201,\n",
       "        0.10686201, 0.1315151 , 0.19935932, 0.18887707, 0.25478013,\n",
       "        0.27419195, 0.30301851, 0.27079482, 0.25012133, 0.28331552,\n",
       "        0.27040665, 0.23925061, 0.26662135, 0.31291858, 0.28962431,\n",
       "        0.29729206, 0.29253611, 0.27011548, 0.40027176, 0.28642134,\n",
       "        0.39978644, 0.34883041, 0.37367752, 0.41415114, 0.40337758,\n",
       "        0.46248653, 0.46161304, 0.39318634, 0.39415699, 0.40580406]])"
      ]
     },
     "execution_count": 56,
     "metadata": {},
     "output_type": "execute_result"
    }
   ],
   "source": [
    "x_forecast"
   ]
  },
  {
   "cell_type": "code",
   "execution_count": 31,
   "id": "790d5808-5635-4e6a-873e-8966f840a745",
   "metadata": {
    "tags": []
   },
   "outputs": [],
   "source": []
  },
  {
   "cell_type": "code",
   "execution_count": null,
   "id": "5d45a1f1-e5b7-4fd4-8422-6d4aa88d2bf4",
   "metadata": {},
   "outputs": [],
   "source": []
  },
  {
   "cell_type": "code",
   "execution_count": null,
   "id": "f52c6d50-916c-48c8-8edf-7ab79475c707",
   "metadata": {},
   "outputs": [],
   "source": []
  },
  {
   "cell_type": "code",
   "execution_count": null,
   "id": "1ff919f2-a02e-480d-b68a-16d656cbf66e",
   "metadata": {},
   "outputs": [],
   "source": []
  },
  {
   "cell_type": "code",
   "execution_count": null,
   "id": "d1f39ecd-6c24-4c08-b22d-4bebe79256b3",
   "metadata": {},
   "outputs": [],
   "source": []
  },
  {
   "cell_type": "code",
   "execution_count": null,
   "id": "376d9c8f-230a-4ee1-b698-160b2387e4c1",
   "metadata": {},
   "outputs": [],
   "source": []
  },
  {
   "cell_type": "code",
   "execution_count": null,
   "id": "9c71aa21-0910-4f29-968e-970e3039cb3f",
   "metadata": {},
   "outputs": [],
   "source": []
  },
  {
   "cell_type": "code",
   "execution_count": null,
   "id": "d047f839-32a5-4211-885d-16bac95fd281",
   "metadata": {},
   "outputs": [],
   "source": []
  },
  {
   "cell_type": "code",
   "execution_count": 62,
   "id": "9d2e16c4-b434-489f-95b3-b70fca447508",
   "metadata": {
    "tags": []
   },
   "outputs": [
    {
     "name": "stdout",
     "output_type": "stream",
     "text": [
      "\u001b[1m1/1\u001b[0m \u001b[32m━━━━━━━━━━━━━━━━━━━━\u001b[0m\u001b[37m\u001b[0m \u001b[1m0s\u001b[0m 11ms/step\n",
      "\u001b[1m1/1\u001b[0m \u001b[32m━━━━━━━━━━━━━━━━━━━━\u001b[0m\u001b[37m\u001b[0m \u001b[1m0s\u001b[0m 11ms/step\n",
      "\u001b[1m1/1\u001b[0m \u001b[32m━━━━━━━━━━━━━━━━━━━━\u001b[0m\u001b[37m\u001b[0m \u001b[1m0s\u001b[0m 11ms/step\n",
      "\u001b[1m1/1\u001b[0m \u001b[32m━━━━━━━━━━━━━━━━━━━━\u001b[0m\u001b[37m\u001b[0m \u001b[1m0s\u001b[0m 11ms/step\n",
      "\u001b[1m1/1\u001b[0m \u001b[32m━━━━━━━━━━━━━━━━━━━━\u001b[0m\u001b[37m\u001b[0m \u001b[1m0s\u001b[0m 11ms/step\n",
      "\u001b[1m1/1\u001b[0m \u001b[32m━━━━━━━━━━━━━━━━━━━━\u001b[0m\u001b[37m\u001b[0m \u001b[1m0s\u001b[0m 11ms/step\n",
      "\u001b[1m1/1\u001b[0m \u001b[32m━━━━━━━━━━━━━━━━━━━━\u001b[0m\u001b[37m\u001b[0m \u001b[1m0s\u001b[0m 12ms/step\n",
      "\u001b[1m1/1\u001b[0m \u001b[32m━━━━━━━━━━━━━━━━━━━━\u001b[0m\u001b[37m\u001b[0m \u001b[1m0s\u001b[0m 12ms/step\n",
      "\u001b[1m1/1\u001b[0m \u001b[32m━━━━━━━━━━━━━━━━━━━━\u001b[0m\u001b[37m\u001b[0m \u001b[1m0s\u001b[0m 11ms/step\n",
      "\u001b[1m1/1\u001b[0m \u001b[32m━━━━━━━━━━━━━━━━━━━━\u001b[0m\u001b[37m\u001b[0m \u001b[1m0s\u001b[0m 11ms/step\n",
      "\u001b[1m1/1\u001b[0m \u001b[32m━━━━━━━━━━━━━━━━━━━━\u001b[0m\u001b[37m\u001b[0m \u001b[1m0s\u001b[0m 11ms/step\n",
      "\u001b[1m1/1\u001b[0m \u001b[32m━━━━━━━━━━━━━━━━━━━━\u001b[0m\u001b[37m\u001b[0m \u001b[1m0s\u001b[0m 11ms/step\n",
      "\u001b[1m1/1\u001b[0m \u001b[32m━━━━━━━━━━━━━━━━━━━━\u001b[0m\u001b[37m\u001b[0m \u001b[1m0s\u001b[0m 11ms/step\n",
      "\u001b[1m1/1\u001b[0m \u001b[32m━━━━━━━━━━━━━━━━━━━━\u001b[0m\u001b[37m\u001b[0m \u001b[1m0s\u001b[0m 11ms/step\n",
      "\u001b[1m1/1\u001b[0m \u001b[32m━━━━━━━━━━━━━━━━━━━━\u001b[0m\u001b[37m\u001b[0m \u001b[1m0s\u001b[0m 11ms/step\n",
      "\u001b[1m1/1\u001b[0m \u001b[32m━━━━━━━━━━━━━━━━━━━━\u001b[0m\u001b[37m\u001b[0m \u001b[1m0s\u001b[0m 11ms/step\n",
      "\u001b[1m1/1\u001b[0m \u001b[32m━━━━━━━━━━━━━━━━━━━━\u001b[0m\u001b[37m\u001b[0m \u001b[1m0s\u001b[0m 11ms/step\n",
      "\u001b[1m1/1\u001b[0m \u001b[32m━━━━━━━━━━━━━━━━━━━━\u001b[0m\u001b[37m\u001b[0m \u001b[1m0s\u001b[0m 11ms/step\n",
      "\u001b[1m1/1\u001b[0m \u001b[32m━━━━━━━━━━━━━━━━━━━━\u001b[0m\u001b[37m\u001b[0m \u001b[1m0s\u001b[0m 11ms/step\n",
      "\u001b[1m1/1\u001b[0m \u001b[32m━━━━━━━━━━━━━━━━━━━━\u001b[0m\u001b[37m\u001b[0m \u001b[1m0s\u001b[0m 11ms/step\n",
      "\u001b[1m1/1\u001b[0m \u001b[32m━━━━━━━━━━━━━━━━━━━━\u001b[0m\u001b[37m\u001b[0m \u001b[1m0s\u001b[0m 11ms/step\n",
      "\u001b[1m1/1\u001b[0m \u001b[32m━━━━━━━━━━━━━━━━━━━━\u001b[0m\u001b[37m\u001b[0m \u001b[1m0s\u001b[0m 11ms/step\n",
      "\u001b[1m1/1\u001b[0m \u001b[32m━━━━━━━━━━━━━━━━━━━━\u001b[0m\u001b[37m\u001b[0m \u001b[1m0s\u001b[0m 11ms/step\n",
      "\u001b[1m1/1\u001b[0m \u001b[32m━━━━━━━━━━━━━━━━━━━━\u001b[0m\u001b[37m\u001b[0m \u001b[1m0s\u001b[0m 11ms/step\n",
      "\u001b[1m1/1\u001b[0m \u001b[32m━━━━━━━━━━━━━━━━━━━━\u001b[0m\u001b[37m\u001b[0m \u001b[1m0s\u001b[0m 11ms/step\n",
      "\u001b[1m1/1\u001b[0m \u001b[32m━━━━━━━━━━━━━━━━━━━━\u001b[0m\u001b[37m\u001b[0m \u001b[1m0s\u001b[0m 11ms/step\n",
      "\u001b[1m1/1\u001b[0m \u001b[32m━━━━━━━━━━━━━━━━━━━━\u001b[0m\u001b[37m\u001b[0m \u001b[1m0s\u001b[0m 11ms/step\n",
      "\u001b[1m1/1\u001b[0m \u001b[32m━━━━━━━━━━━━━━━━━━━━\u001b[0m\u001b[37m\u001b[0m \u001b[1m0s\u001b[0m 11ms/step\n",
      "\u001b[1m1/1\u001b[0m \u001b[32m━━━━━━━━━━━━━━━━━━━━\u001b[0m\u001b[37m\u001b[0m \u001b[1m0s\u001b[0m 11ms/step\n",
      "\u001b[1m1/1\u001b[0m \u001b[32m━━━━━━━━━━━━━━━━━━━━\u001b[0m\u001b[37m\u001b[0m \u001b[1m0s\u001b[0m 11ms/step\n"
     ]
    }
   ],
   "source": [
    "for i in range(30):\n",
    "    x_forecast = last_100_days_scaled[-100:].reshape(1, -1, 1)\n",
    "    y_forecast = model.predict(x_forecast) # THIS IS THE ERROR LINE\n",
    "    forecast.iloc[i] = scaler.inverse_transform(y_forecast)[0][0]\n",
    "    last_100_days_scaled = np.append(last_100_days_scaled, y_forecast)"
   ]
  },
  {
   "cell_type": "code",
   "execution_count": 63,
   "id": "4e6b4cd9-4658-47f7-ad26-efeec6067881",
   "metadata": {
    "tags": []
   },
   "outputs": [
    {
     "data": {
      "text/plain": [
       "array([[[0.00990007],\n",
       "        [0.02814708],\n",
       "        [0.00640594],\n",
       "        [0.02630308],\n",
       "        [0.06105011],\n",
       "        [0.06930019],\n",
       "        [0.        ],\n",
       "        [0.00397946],\n",
       "        [0.07395898],\n",
       "        [0.10928849],\n",
       "        [0.10686201],\n",
       "        [0.10686201],\n",
       "        [0.1315151 ],\n",
       "        [0.19935932],\n",
       "        [0.18887707],\n",
       "        [0.25478013],\n",
       "        [0.27419195],\n",
       "        [0.30301851],\n",
       "        [0.27079482],\n",
       "        [0.25012133],\n",
       "        [0.28331552],\n",
       "        [0.27040665],\n",
       "        [0.23925061],\n",
       "        [0.26662135],\n",
       "        [0.31291858],\n",
       "        [0.28962431],\n",
       "        [0.29729206],\n",
       "        [0.29253611],\n",
       "        [0.27011548],\n",
       "        [0.40027176],\n",
       "        [0.28642134],\n",
       "        [0.39978644],\n",
       "        [0.34883041],\n",
       "        [0.37367752],\n",
       "        [0.41415114],\n",
       "        [0.40337758],\n",
       "        [0.46248653],\n",
       "        [0.46161304],\n",
       "        [0.39318634],\n",
       "        [0.39415699],\n",
       "        [0.40580406],\n",
       "        [0.41166672],\n",
       "        [0.49119639],\n",
       "        [0.42911574],\n",
       "        [0.43011174],\n",
       "        [0.45445696],\n",
       "        [0.46809265],\n",
       "        [0.45957398],\n",
       "        [0.45615315],\n",
       "        [0.42855287],\n",
       "        [0.45531181],\n",
       "        [0.4491283 ],\n",
       "        [0.42313725],\n",
       "        [0.40820989],\n",
       "        [0.41457021],\n",
       "        [0.40928462],\n",
       "        [0.3992731 ],\n",
       "        [0.45025322],\n",
       "        [0.42344978],\n",
       "        [0.46164057],\n",
       "        [0.41119879],\n",
       "        [0.45337546],\n",
       "        [0.46210057],\n",
       "        [0.45554155],\n",
       "        [0.4599719 ],\n",
       "        [0.42793921],\n",
       "        [0.47401768],\n",
       "        [0.46842614],\n",
       "        [0.41862765],\n",
       "        [0.35311052],\n",
       "        [0.43083519],\n",
       "        [0.37176356],\n",
       "        [0.41404542],\n",
       "        [0.38383025],\n",
       "        [0.38522983],\n",
       "        [0.42366371],\n",
       "        [0.40592435],\n",
       "        [0.36419261],\n",
       "        [0.44085246],\n",
       "        [0.40211919],\n",
       "        [0.40956268],\n",
       "        [0.3917385 ],\n",
       "        [0.37631971],\n",
       "        [0.41132882],\n",
       "        [0.36568505],\n",
       "        [0.33871397],\n",
       "        [0.41212684],\n",
       "        [0.40073696],\n",
       "        [0.43797341],\n",
       "        [0.39325878],\n",
       "        [0.40209976],\n",
       "        [0.45173717],\n",
       "        [0.45097241],\n",
       "        [0.3726519 ],\n",
       "        [0.44169044],\n",
       "        [0.4287976 ],\n",
       "        [0.48018372],\n",
       "        [0.42188412],\n",
       "        [0.40832835],\n",
       "        [0.43333673]]])"
      ]
     },
     "execution_count": 63,
     "metadata": {},
     "output_type": "execute_result"
    }
   ],
   "source": [
    "x_forecast "
   ]
  },
  {
   "cell_type": "code",
   "execution_count": 64,
   "id": "fb4a7a9c-9275-490d-aba6-0f40e4323ad6",
   "metadata": {
    "tags": []
   },
   "outputs": [
    {
     "name": "stdout",
     "output_type": "stream",
     "text": [
      "x_forecast.shape => (1, 100, 1)\n",
      "\n"
     ]
    }
   ],
   "source": [
    "print(f\"x_forecast.shape => {x_forecast.shape}\\n\")"
   ]
  },
  {
   "cell_type": "code",
   "execution_count": 39,
   "id": "58b55f10-08e5-4554-bebd-c071b0811310",
   "metadata": {
    "tags": []
   },
   "outputs": [
    {
     "ename": "ValueError",
     "evalue": "Exception encountered when calling Sequential.call().\n\n\u001b[1mCannot take the length of shape with unknown rank.\u001b[0m\n\nArguments received by Sequential.call():\n  • inputs=tf.Tensor(shape=<unknown>, dtype=float32)\n  • training=False\n  • mask=None",
     "output_type": "error",
     "traceback": [
      "\u001b[0;31m---------------------------------------------------------------------------\u001b[0m",
      "\u001b[0;31mValueError\u001b[0m                                Traceback (most recent call last)",
      "Cell \u001b[0;32mIn[39], line 1\u001b[0m\n\u001b[0;32m----> 1\u001b[0m y_forecast \u001b[38;5;241m=\u001b[39m \u001b[43mmodel\u001b[49m\u001b[38;5;241;43m.\u001b[39;49m\u001b[43mpredict\u001b[49m\u001b[43m(\u001b[49m\u001b[43mx_forecast\u001b[49m\u001b[43m)\u001b[49m\n",
      "File \u001b[0;32m/mnt/sdb1/2ndHome/anaconda3/envs/kaggle/lib/python3.10/site-packages/keras/src/utils/traceback_utils.py:122\u001b[0m, in \u001b[0;36mfilter_traceback.<locals>.error_handler\u001b[0;34m(*args, **kwargs)\u001b[0m\n\u001b[1;32m    119\u001b[0m     filtered_tb \u001b[38;5;241m=\u001b[39m _process_traceback_frames(e\u001b[38;5;241m.\u001b[39m__traceback__)\n\u001b[1;32m    120\u001b[0m     \u001b[38;5;66;03m# To get the full stack trace, call:\u001b[39;00m\n\u001b[1;32m    121\u001b[0m     \u001b[38;5;66;03m# `keras.config.disable_traceback_filtering()`\u001b[39;00m\n\u001b[0;32m--> 122\u001b[0m     \u001b[38;5;28;01mraise\u001b[39;00m e\u001b[38;5;241m.\u001b[39mwith_traceback(filtered_tb) \u001b[38;5;28;01mfrom\u001b[39;00m \u001b[38;5;28;01mNone\u001b[39;00m\n\u001b[1;32m    123\u001b[0m \u001b[38;5;28;01mfinally\u001b[39;00m:\n\u001b[1;32m    124\u001b[0m     \u001b[38;5;28;01mdel\u001b[39;00m filtered_tb\n",
      "File \u001b[0;32m/mnt/sdb1/2ndHome/anaconda3/envs/kaggle/lib/python3.10/site-packages/keras/src/utils/traceback_utils.py:122\u001b[0m, in \u001b[0;36mfilter_traceback.<locals>.error_handler\u001b[0;34m(*args, **kwargs)\u001b[0m\n\u001b[1;32m    119\u001b[0m     filtered_tb \u001b[38;5;241m=\u001b[39m _process_traceback_frames(e\u001b[38;5;241m.\u001b[39m__traceback__)\n\u001b[1;32m    120\u001b[0m     \u001b[38;5;66;03m# To get the full stack trace, call:\u001b[39;00m\n\u001b[1;32m    121\u001b[0m     \u001b[38;5;66;03m# `keras.config.disable_traceback_filtering()`\u001b[39;00m\n\u001b[0;32m--> 122\u001b[0m     \u001b[38;5;28;01mraise\u001b[39;00m e\u001b[38;5;241m.\u001b[39mwith_traceback(filtered_tb) \u001b[38;5;28;01mfrom\u001b[39;00m \u001b[38;5;28;01mNone\u001b[39;00m\n\u001b[1;32m    123\u001b[0m \u001b[38;5;28;01mfinally\u001b[39;00m:\n\u001b[1;32m    124\u001b[0m     \u001b[38;5;28;01mdel\u001b[39;00m filtered_tb\n",
      "\u001b[0;31mValueError\u001b[0m: Exception encountered when calling Sequential.call().\n\n\u001b[1mCannot take the length of shape with unknown rank.\u001b[0m\n\nArguments received by Sequential.call():\n  • inputs=tf.Tensor(shape=<unknown>, dtype=float32)\n  • training=False\n  • mask=None"
     ]
    }
   ],
   "source": [
    "y_forecast = model.predict(x_forecast)"
   ]
  },
  {
   "cell_type": "code",
   "execution_count": null,
   "id": "5eafe675-ef57-4201-9524-ef1301ecfd48",
   "metadata": {
    "tags": []
   },
   "outputs": [],
   "source": [
    "y_forecast.shape"
   ]
  },
  {
   "cell_type": "code",
   "execution_count": null,
   "id": "223b6b5e-abc7-4351-b827-8bd38f839ec1",
   "metadata": {
    "tags": []
   },
   "outputs": [],
   "source": [
    "x_forecast.shape"
   ]
  },
  {
   "cell_type": "code",
   "execution_count": 65,
   "id": "b806efe6-24bf-4ab6-bdd0-33a3cde7f1f0",
   "metadata": {
    "tags": []
   },
   "outputs": [
    {
     "data": {
      "text/html": [
       "<div>\n",
       "<style scoped>\n",
       "    .dataframe tbody tr th:only-of-type {\n",
       "        vertical-align: middle;\n",
       "    }\n",
       "\n",
       "    .dataframe tbody tr th {\n",
       "        vertical-align: top;\n",
       "    }\n",
       "\n",
       "    .dataframe thead th {\n",
       "        text-align: right;\n",
       "    }\n",
       "</style>\n",
       "<table border=\"1\" class=\"dataframe\">\n",
       "  <thead>\n",
       "    <tr style=\"text-align: right;\">\n",
       "      <th></th>\n",
       "      <th>Forecast</th>\n",
       "    </tr>\n",
       "  </thead>\n",
       "  <tbody>\n",
       "    <tr>\n",
       "      <th>2024-08-20</th>\n",
       "      <td>231.692795</td>\n",
       "    </tr>\n",
       "    <tr>\n",
       "      <th>2024-08-21</th>\n",
       "      <td>236.049103</td>\n",
       "    </tr>\n",
       "    <tr>\n",
       "      <th>2024-08-22</th>\n",
       "      <td>232.936035</td>\n",
       "    </tr>\n",
       "    <tr>\n",
       "      <th>2024-08-23</th>\n",
       "      <td>233.080231</td>\n",
       "    </tr>\n",
       "    <tr>\n",
       "      <th>2024-08-24</th>\n",
       "      <td>237.04007</td>\n",
       "    </tr>\n",
       "    <tr>\n",
       "      <th>2024-08-25</th>\n",
       "      <td>235.212387</td>\n",
       "    </tr>\n",
       "    <tr>\n",
       "      <th>2024-08-26</th>\n",
       "      <td>230.912781</td>\n",
       "    </tr>\n",
       "    <tr>\n",
       "      <th>2024-08-27</th>\n",
       "      <td>238.811035</td>\n",
       "    </tr>\n",
       "    <tr>\n",
       "      <th>2024-08-28</th>\n",
       "      <td>234.820343</td>\n",
       "    </tr>\n",
       "    <tr>\n",
       "      <th>2024-08-29</th>\n",
       "      <td>235.587234</td>\n",
       "    </tr>\n",
       "    <tr>\n",
       "      <th>2024-08-30</th>\n",
       "      <td>233.750809</td>\n",
       "    </tr>\n",
       "    <tr>\n",
       "      <th>2024-08-31</th>\n",
       "      <td>232.162216</td>\n",
       "    </tr>\n",
       "    <tr>\n",
       "      <th>2024-09-01</th>\n",
       "      <td>235.769211</td>\n",
       "    </tr>\n",
       "    <tr>\n",
       "      <th>2024-09-02</th>\n",
       "      <td>231.066528</td>\n",
       "    </tr>\n",
       "    <tr>\n",
       "      <th>2024-09-03</th>\n",
       "      <td>228.287689</td>\n",
       "    </tr>\n",
       "    <tr>\n",
       "      <th>2024-09-04</th>\n",
       "      <td>235.851425</td>\n",
       "    </tr>\n",
       "    <tr>\n",
       "      <th>2024-09-05</th>\n",
       "      <td>234.677948</td>\n",
       "    </tr>\n",
       "    <tr>\n",
       "      <th>2024-09-06</th>\n",
       "      <td>238.51442</td>\n",
       "    </tr>\n",
       "    <tr>\n",
       "      <th>2024-09-07</th>\n",
       "      <td>233.907455</td>\n",
       "    </tr>\n",
       "    <tr>\n",
       "      <th>2024-09-08</th>\n",
       "      <td>234.818359</td>\n",
       "    </tr>\n",
       "    <tr>\n",
       "      <th>2024-09-09</th>\n",
       "      <td>239.93248</td>\n",
       "    </tr>\n",
       "    <tr>\n",
       "      <th>2024-09-10</th>\n",
       "      <td>239.853683</td>\n",
       "    </tr>\n",
       "    <tr>\n",
       "      <th>2024-09-11</th>\n",
       "      <td>231.784317</td>\n",
       "    </tr>\n",
       "    <tr>\n",
       "      <th>2024-09-12</th>\n",
       "      <td>238.897369</td>\n",
       "    </tr>\n",
       "    <tr>\n",
       "      <th>2024-09-13</th>\n",
       "      <td>237.569031</td>\n",
       "    </tr>\n",
       "    <tr>\n",
       "      <th>2024-09-14</th>\n",
       "      <td>242.863342</td>\n",
       "    </tr>\n",
       "    <tr>\n",
       "      <th>2024-09-15</th>\n",
       "      <td>236.85672</td>\n",
       "    </tr>\n",
       "    <tr>\n",
       "      <th>2024-09-16</th>\n",
       "      <td>235.460068</td>\n",
       "    </tr>\n",
       "    <tr>\n",
       "      <th>2024-09-17</th>\n",
       "      <td>238.036682</td>\n",
       "    </tr>\n",
       "    <tr>\n",
       "      <th>2024-09-18</th>\n",
       "      <td>241.831161</td>\n",
       "    </tr>\n",
       "  </tbody>\n",
       "</table>\n",
       "</div>"
      ],
      "text/plain": [
       "              Forecast\n",
       "2024-08-20  231.692795\n",
       "2024-08-21  236.049103\n",
       "2024-08-22  232.936035\n",
       "2024-08-23  233.080231\n",
       "2024-08-24   237.04007\n",
       "2024-08-25  235.212387\n",
       "2024-08-26  230.912781\n",
       "2024-08-27  238.811035\n",
       "2024-08-28  234.820343\n",
       "2024-08-29  235.587234\n",
       "2024-08-30  233.750809\n",
       "2024-08-31  232.162216\n",
       "2024-09-01  235.769211\n",
       "2024-09-02  231.066528\n",
       "2024-09-03  228.287689\n",
       "2024-09-04  235.851425\n",
       "2024-09-05  234.677948\n",
       "2024-09-06   238.51442\n",
       "2024-09-07  233.907455\n",
       "2024-09-08  234.818359\n",
       "2024-09-09   239.93248\n",
       "2024-09-10  239.853683\n",
       "2024-09-11  231.784317\n",
       "2024-09-12  238.897369\n",
       "2024-09-13  237.569031\n",
       "2024-09-14  242.863342\n",
       "2024-09-15   236.85672\n",
       "2024-09-16  235.460068\n",
       "2024-09-17  238.036682\n",
       "2024-09-18  241.831161"
      ]
     },
     "execution_count": 65,
     "metadata": {},
     "output_type": "execute_result"
    }
   ],
   "source": [
    "forecast"
   ]
  },
  {
   "cell_type": "code",
   "execution_count": null,
   "id": "4c0acc4e-0ddd-47c5-b7e4-94f2ccb92bd5",
   "metadata": {},
   "outputs": [],
   "source": []
  }
 ],
 "metadata": {
  "kernelspec": {
   "display_name": "Python [conda env:kaggle] *",
   "language": "python",
   "name": "conda-env-kaggle-py"
  },
  "language_info": {
   "codemirror_mode": {
    "name": "ipython",
    "version": 3
   },
   "file_extension": ".py",
   "mimetype": "text/x-python",
   "name": "python",
   "nbconvert_exporter": "python",
   "pygments_lexer": "ipython3",
   "version": "3.10.13"
  }
 },
 "nbformat": 4,
 "nbformat_minor": 5
}
